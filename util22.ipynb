{
 "cells": [
  {
   "cell_type": "code",
   "execution_count": 37,
   "metadata": {
    "collapsed": false
   },
   "outputs": [
    {
     "name": "stdout",
     "output_type": "stream",
     "text": [
      "7.05\n"
     ]
    }
   ],
   "source": [
    "# this file contains the custom functions to finish repeat trivial tasks.\n",
    "import pandas as pd\n",
    "import numpy as np\n",
    "from datetime import datetime\n",
    "# this function will give the major version of the dota2 game patch for given date\n",
    "\n",
    "# the version table is imported from http://dota2.gamepedia.com/Game_Versions \n",
    "# by Microsoft Excel for convenience. \n",
    "version_table = pd.read_csv('dataset/Versions.csv')\n",
    "# only keep the major patches.\n",
    "major_table = version_table.loc[version_table['Patch Date'].map(str).map(len) > 6 ]\n",
    "major_table = major_table.loc[major_table['Version'].map(str).map(len) <= 4]\n",
    "major_table['Patch Date'] = major_table['Patch Date'].map(str).map(lambda x: datetime.strptime(x, '%m/%d/%Y'))\n",
    "\n",
    "def version(date):\n",
    "    # date: string in forms like \"14 May 2017\"\n",
    "    # return: string, the version of the date\n",
    "    \n",
    "    # transform date string into datetime\n",
    "    date = datetime.strptime(date, '%d %b %Y')\n",
    "\n",
    "    # if current version release date is newer than given date, move to next version.\n",
    "    i = 0\n",
    "    dlst = major_table['Patch Date'].tolist()\n",
    "    vlst = major_table['Version'].tolist()\n",
    "    while i < len(dlst):\n",
    "        if dlst[i] > date:\n",
    "            i += 1\n",
    "        else:\n",
    "            break\n",
    "    # return the version\n",
    "    return vlst[i]\n",
    "\n",
    "## test\n",
    "#print (version('14 May 2017'))\n",
    "\n",
    "            "
   ]
  },
  {
   "cell_type": "code",
   "execution_count": 35,
   "metadata": {
    "collapsed": true
   },
   "outputs": [],
   "source": [
    "def who_win(A,B,clf,mlset):\n",
    "    Al = mlset.loc[(mlset['Team'] == A) & (mlset['Version'] == '7.05')]\n",
    "    Ax = Al.loc[Al.index[0],'Feature_x']\n",
    "    Bl = mlset.loc[(mlset['Team'] == B) & (mlset['Version'] == '7.05')]\n",
    "    Bx = Bl.loc[Bl.index[0],'Feature_x']   \n",
    "    X = list(np.subtract(Ax,Bx))\n",
    "    return clf.predict(X)"
   ]
  },
  {
   "cell_type": "code",
   "execution_count": null,
   "metadata": {
    "collapsed": true
   },
   "outputs": [],
   "source": []
  }
 ],
 "metadata": {
  "kernelspec": {
   "display_name": "Python 3",
   "language": "python",
   "name": "python3"
  },
  "language_info": {
   "codemirror_mode": {
    "name": "ipython",
    "version": 3
   },
   "file_extension": ".py",
   "mimetype": "text/x-python",
   "name": "python",
   "nbconvert_exporter": "python",
   "pygments_lexer": "ipython3",
   "version": "3.6.0"
  }
 },
 "nbformat": 4,
 "nbformat_minor": 2
}
